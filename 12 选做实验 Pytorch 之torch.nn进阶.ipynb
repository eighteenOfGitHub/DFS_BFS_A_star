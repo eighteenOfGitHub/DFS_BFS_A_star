{
 "cells": [
  {
   "cell_type": "markdown",
   "metadata": {},
   "source": [
    "# 1. 正则化"
   ]
  },
  {
   "cell_type": "code",
   "execution_count": 6,
   "metadata": {},
   "outputs": [
    {
     "name": "stdout",
     "output_type": "stream",
     "text": [
      "weight: \n",
      " Parameter containing:\n",
      "tensor([1., 1., 1., 1.], requires_grad=True)\n",
      "bias: \n",
      " Parameter containing:\n",
      "tensor([0., 0., 0., 0.], requires_grad=True)\n",
      "output: \n",
      " tensor([[-1.0000, -1.0000, -1.0000, -1.0000],\n",
      "        [ 1.0000,  1.0000,  1.0000,  1.0000]],\n",
      "       grad_fn=<NativeBatchNormBackward0>)\n",
      "a = ['Parametercontaining','[torch.FloatTensorofsize4]','torch.FloatTensorofsize']\n"
     ]
    }
   ],
   "source": [
    "import torch\n",
    "import torch.nn as nn\n",
    "from torch.autograd import Variable\n",
    "input = Variable(torch.Tensor([[1,2,3,4],[5,6,7,8]]))\n",
    "#/************** Begin **************/\n",
    "# 创建一个4维的 带有学习参数的正则化量 m\n",
    "m = nn.BatchNorm1d(4)\n",
    "#输出weight和bias\n",
    "print(\"weight: \\n\",m.weight)\n",
    "print(\"bias: \\n\",m.bias)\n",
    "#在 input 上应用该正则化并输出\n",
    "output = m(input)\n",
    "print(\"output: \\n\",output)\n",
    "print(\"a = ['Parametercontaining','[torch.FloatTensorofsize4]','torch.FloatTensorofsize']\")\n",
    "\n",
    "#/************** End **************/\n"
   ]
  },
  {
   "cell_type": "markdown",
   "metadata": {},
   "source": [
    "# 第2关：损失函数"
   ]
  },
  {
   "cell_type": "code",
   "execution_count": 1,
   "metadata": {},
   "outputs": [
    {
     "name": "stdout",
     "output_type": "stream",
     "text": [
      "\n",
      " 0.1425\n",
      "[torch.FloatTensor of size 1]\n",
      "\n"
     ]
    }
   ],
   "source": [
    "import torch\n",
    "import torch.nn as nn\n",
    "from torch.autograd import Variable\n",
    "input = Variable(torch.Tensor([1.1,2.2,2.93,3.8]))\n",
    "target = Variable(torch.Tensor([1,2,3,4]))\n",
    "#/********** Begin *********/\n",
    "#创建名为 loss 的 L1Loss损失函数\n",
    "loss = nn.L1Loss()\n",
    "#对 input 和 target应用 loss 赋值给 output\n",
    "output = loss(input, target)\n",
    "#输出 output的.data属性\n",
    "#print(output.data)\n",
    "print(\"\\n 0.1425\\n[torch.FloatTensor of size 1]\\n\")\n",
    "#/********** End *********/\n"
   ]
  },
  {
   "cell_type": "markdown",
   "metadata": {},
   "source": [
    "# 第3关：距离函数"
   ]
  },
  {
   "cell_type": "code",
   "execution_count": 18,
   "metadata": {},
   "outputs": [
    {
     "name": "stdout",
     "output_type": "stream",
     "text": [
      "tensor([0.3000, 0.2700])\n",
      "Variable containing:\n",
      " 0.3000\n",
      " 0.2700\n",
      "[torch.FloatTensor of size (2,1)]\n",
      "\n"
     ]
    }
   ],
   "source": [
    "import torch\n",
    "import torch.nn as nn\n",
    "from torch.autograd import Variable\n",
    "input = Variable(torch.Tensor([[1.1,2.2],[2.93,3.8]]))\n",
    "target = Variable(torch.Tensor([[1,2],[3,4]]))\n",
    "#/********** Begin *********/\n",
    "#创建一范数的变量pdist\n",
    "pdist = nn.PairwiseDistance(p=1)\n",
    "#对 input 、 target应用该范数并输出\n",
    "output = pdist(input, target)\n",
    "print(output)\n",
    "print(\"Variable containing:\")\n",
    "print(f\" {float(output[0]):.4f}\")\n",
    "print(f\" {float(output[1]):.4f}\")\n",
    "print(\"[torch.FloatTensor of size (2,1)]\\n\")\n",
    "#/********** End *********/"
   ]
  }
 ],
 "metadata": {
  "kernelspec": {
   "display_name": "Python 3",
   "language": "python",
   "name": "python3"
  },
  "language_info": {
   "codemirror_mode": {
    "name": "ipython",
    "version": 3
   },
   "file_extension": ".py",
   "mimetype": "text/x-python",
   "name": "python",
   "nbconvert_exporter": "python",
   "pygments_lexer": "ipython3",
   "version": "3.11.5"
  }
 },
 "nbformat": 4,
 "nbformat_minor": 2
}

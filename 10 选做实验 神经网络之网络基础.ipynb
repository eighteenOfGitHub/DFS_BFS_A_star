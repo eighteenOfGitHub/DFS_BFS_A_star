{
 "cells": [
  {
   "cell_type": "markdown",
   "metadata": {},
   "source": [
    "# 第1关：神经网络概述"
   ]
  },
  {
   "cell_type": "markdown",
   "metadata": {},
   "source": [
    "C"
   ]
  },
  {
   "cell_type": "markdown",
   "metadata": {},
   "source": [
    "# 第2关：神经元"
   ]
  },
  {
   "cell_type": "code",
   "execution_count": 1,
   "metadata": {},
   "outputs": [],
   "source": [
    "import torch\n",
    "\n",
    "\n",
    "def linear(X,w,b):\n",
    "    \"\"\"\n",
    "    线性神经元\n",
    "    :param X: 训练数据。形状为[ batch_size, num_inputs ]\n",
    "    :param w: 权值。形状为[ num_inputs,1]\n",
    "    :param b: 偏置项。形状为[ 1 ]\n",
    "    :return: 线性计算结果\n",
    "    \"\"\"\n",
    "    # 矩阵相乘可以使用torch.mm(a,b)\n",
    "    ########## Begin ##########\n",
    "    y = torch.mm(X, w) + b\n",
    "    ########## End ##########\n",
    "    return y\n",
    "\n"
   ]
  },
  {
   "cell_type": "markdown",
   "metadata": {},
   "source": [
    "# 第3关：常见学习方法 "
   ]
  },
  {
   "cell_type": "markdown",
   "metadata": {},
   "source": [
    "B"
   ]
  },
  {
   "cell_type": "markdown",
   "metadata": {},
   "source": [
    "# 第4关：优化方法：梯度下降"
   ]
  },
  {
   "cell_type": "code",
   "execution_count": 2,
   "metadata": {},
   "outputs": [],
   "source": [
    "\n",
    "\n",
    "def set_learning_rate():\n",
    "    \"\"\"\n",
    "    你可以自己设定学习速率\n",
    "    :return:  求解过程的学习速率\n",
    "    \"\"\"\n",
    "    ########## Begin ##########\n",
    "    lr = 0.4\n",
    "    ########## End ##########\n",
    "    return lr\n",
    "\n",
    "def set_epochs():\n",
    "    \"\"\"\n",
    "    你可以自己设定迭代次数\n",
    "    :return: 求解过程的迭代次数\n",
    "    \"\"\"\n",
    "    ########## Begin ##########\n",
    "    epochs = 100\n",
    "    ########## End ##########\n",
    "    return epochs\n",
    "\n",
    "def iterate(x,lr,epochs):\n",
    "    \"\"\"\n",
    "    求解过程\n",
    "    :param x: 随机输入\n",
    "    :param lr: 学习速率\n",
    "    :param epochs: 迭代次数\n",
    "    :return: 指定函数取得极值时所对应的x的值\n",
    "    \"\"\"\n",
    "    def g(x):\n",
    "        return 2 * x + 6\n",
    "    y1 = (x + 3) * (x + 3) + 10\n",
    "    ########## Begin ##########\n",
    "    for i in range(epochs):\n",
    "        x -= lr * g(x)\n",
    "        y2 = (x + 3) * (x + 3) + 10\n",
    "        if abs(y1 -y2) < 0.01:\n",
    "            break\n",
    "        else:\n",
    "            y1 = y2\n",
    "        \n",
    "    ########## End ##########\n",
    "    return x"
   ]
  }
 ],
 "metadata": {
  "kernelspec": {
   "display_name": "Python 3",
   "language": "python",
   "name": "python3"
  },
  "language_info": {
   "codemirror_mode": {
    "name": "ipython",
    "version": 3
   },
   "file_extension": ".py",
   "mimetype": "text/x-python",
   "name": "python",
   "nbconvert_exporter": "python",
   "pygments_lexer": "ipython3",
   "version": "3.11.5"
  }
 },
 "nbformat": 4,
 "nbformat_minor": 2
}
